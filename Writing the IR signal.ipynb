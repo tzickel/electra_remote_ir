{
 "cells": [
  {
   "cell_type": "markdown",
   "metadata": {},
   "source": [
    "# Writing the IR signal\n",
    "\n",
    "Now that we know how to decode a signal, it's pretty easy to encode one, given the input parameters."
   ]
  },
  {
   "cell_type": "code",
   "execution_count": 1,
   "metadata": {},
   "outputs": [],
   "source": [
    "from ir.write import *\n",
    "from ir.read import *"
   ]
  },
  {
   "cell_type": "markdown",
   "metadata": {},
   "source": [
    "Let's get a signal from an input, and try to re-code it:"
   ]
  },
  {
   "cell_type": "code",
   "execution_count": 2,
   "metadata": {},
   "outputs": [
    {
     "data": {
      "text/plain": [
       "{'mode': <Modes.cool: 0>,\n",
       " 'temp': 29,\n",
       " 'speed': <FanSpeed.medium: 1>,\n",
       " 'power_cycle': False}"
      ]
     },
     "execution_count": 2,
     "metadata": {},
     "output_type": "execute_result"
    }
   ],
   "source": [
    "with open('clicks.txt') as f:\n",
    "    lines = f.readlines()\n",
    "\n",
    "seqs = parse_input(lines)\n",
    "seq = seqs[0]\n",
    "seq = round_values(seq, 1000)\n",
    "state = decode(get_state(seq))\n",
    "\n",
    "state"
   ]
  },
  {
   "cell_type": "code",
   "execution_count": 3,
   "metadata": {},
   "outputs": [
    {
     "data": {
      "text/plain": [
       "[(1, 3000),\n",
       " (0, 3000),\n",
       " (1, 1000),\n",
       " (0, 1000),\n",
       " (1, 1000),\n",
       " (0, 1000),\n",
       " (1, 1000),\n",
       " (0, 2000),\n",
       " (1, 2000),\n",
       " (0, 2000)]"
      ]
     },
     "execution_count": 3,
     "metadata": {},
     "output_type": "execute_result"
    }
   ],
   "source": [
    "seq[:10]"
   ]
  },
  {
   "cell_type": "code",
   "execution_count": 4,
   "metadata": {},
   "outputs": [
    {
     "data": {
      "text/plain": [
       "'0001010000011100000000000000000010'"
      ]
     },
     "execution_count": 4,
     "metadata": {},
     "output_type": "execute_result"
    }
   ],
   "source": [
    "encoded_bits = encode_electra(**state)\n",
    "\n",
    "encoded_bits"
   ]
  },
  {
   "cell_type": "code",
   "execution_count": 5,
   "metadata": {},
   "outputs": [
    {
     "data": {
      "text/plain": [
       "'10101001100110101010100101011010101010101010101010101010101010100110'"
      ]
     },
     "execution_count": 5,
     "metadata": {},
     "output_type": "execute_result"
    }
   ],
   "source": [
    "encoded_manchester = manchester(encoded_bits)\n",
    "\n",
    "encoded_manchester"
   ]
  },
  {
   "cell_type": "code",
   "execution_count": 6,
   "metadata": {},
   "outputs": [
    {
     "data": {
      "text/plain": [
       "'1110001010100110011010101010010101101010101010101010101010101010101010011011100010101001100110101010100101011010101010101010101010101010101010100110111000101010011001101010101001010110101010101010101010101010101010101001101111'"
      ]
     },
     "execution_count": 6,
     "metadata": {},
     "output_type": "execute_result"
    }
   ],
   "source": [
    "encoded_state = write_state(encoded_manchester)\n",
    "\n",
    "encoded_state"
   ]
  },
  {
   "cell_type": "code",
   "execution_count": 7,
   "metadata": {},
   "outputs": [
    {
     "data": {
      "text/plain": [
       "[(1, 3000),\n",
       " (0, 3000),\n",
       " (1, 1000),\n",
       " (0, 1000),\n",
       " (1, 1000),\n",
       " (0, 1000),\n",
       " (1, 1000),\n",
       " (0, 2000),\n",
       " (1, 2000),\n",
       " (0, 2000)]"
      ]
     },
     "execution_count": 7,
     "metadata": {},
     "output_type": "execute_result"
    }
   ],
   "source": [
    "msg = length_encode(encoded_state, 1000)\n",
    "\n",
    "msg[:10]"
   ]
  },
  {
   "cell_type": "code",
   "execution_count": 8,
   "metadata": {},
   "outputs": [
    {
     "data": {
      "text/plain": [
       "True"
      ]
     },
     "execution_count": 8,
     "metadata": {},
     "output_type": "execute_result"
    }
   ],
   "source": [
    "msg == seq"
   ]
  },
  {
   "cell_type": "code",
   "execution_count": 9,
   "metadata": {},
   "outputs": [
    {
     "data": {
      "text/plain": [
       "'pulse 3000\\nspace 3000\\npulse 1000\\nspace 1000\\npulse 1000\\nspace 1000\\npulse 1000\\nspace 2000\\npulse 2000\\nspace 2000\\npulse 2000\\nspace 1000\\npulse 1000\\nspace 1000\\npulse 1000\\nspace 1000\\npulse 1000\\nspace 1000\\npulse 1000\\nspace 2000\\npulse 1000\\nspace 1000\\npulse 1000\\nspace 1000\\npulse 2000\\nspace 1000\\npulse 1000\\nspace 1000\\npulse 1000\\nspace 1000\\npulse 1000\\nspace 1000\\npulse 1000\\nspace 1000\\npulse 1000\\nspace 1000\\npulse 1000\\nspace 1000\\npulse 1000\\nspace 1000\\npulse 1000\\nspace 1000\\npulse 1000\\nspace 1000\\npulse 1000\\nspace 1000\\npulse 1000\\nspace 1000\\npulse 1000\\nspace 1000\\npulse 1000\\nspace 1000\\npulse 1000\\nspace 1000\\npulse 1000\\nspace 1000\\npulse 1000\\nspace 1000\\npulse 1000\\nspace 2000\\npulse 2000\\nspace 1000\\npulse 3000\\nspace 3000\\npulse 1000\\nspace 1000\\npulse 1000\\nspace 1000\\npulse 1000\\nspace 2000\\npulse 2000\\nspace 2000\\npulse 2000\\nspace 1000\\npulse 1000\\nspace 1000\\npulse 1000\\nspace 1000\\npulse 1000\\nspace 1000\\npulse 1000\\nspace 2000\\npulse 1000\\nspace 1000\\npulse 1000\\nspace 1000\\npulse 2000\\nspace 1000\\npulse 1000\\nspace 1000\\npulse 1000\\nspace 1000\\npulse 1000\\nspace 1000\\npulse 1000\\nspace 1000\\npulse 1000\\nspace 1000\\npulse 1000\\nspace 1000\\npulse 1000\\nspace 1000\\npulse 1000\\nspace 1000\\npulse 1000\\nspace 1000\\npulse 1000\\nspace 1000\\npulse 1000\\nspace 1000\\npulse 1000\\nspace 1000\\npulse 1000\\nspace 1000\\npulse 1000\\nspace 1000\\npulse 1000\\nspace 1000\\npulse 1000\\nspace 1000\\npulse 1000\\nspace 2000\\npulse 2000\\nspace 1000\\npulse 3000\\nspace 3000\\npulse 1000\\nspace 1000\\npulse 1000\\nspace 1000\\npulse 1000\\nspace 2000\\npulse 2000\\nspace 2000\\npulse 2000\\nspace 1000\\npulse 1000\\nspace 1000\\npulse 1000\\nspace 1000\\npulse 1000\\nspace 1000\\npulse 1000\\nspace 2000\\npulse 1000\\nspace 1000\\npulse 1000\\nspace 1000\\npulse 2000\\nspace 1000\\npulse 1000\\nspace 1000\\npulse 1000\\nspace 1000\\npulse 1000\\nspace 1000\\npulse 1000\\nspace 1000\\npulse 1000\\nspace 1000\\npulse 1000\\nspace 1000\\npulse 1000\\nspace 1000\\npulse 1000\\nspace 1000\\npulse 1000\\nspace 1000\\npulse 1000\\nspace 1000\\npulse 1000\\nspace 1000\\npulse 1000\\nspace 1000\\npulse 1000\\nspace 1000\\npulse 1000\\nspace 1000\\npulse 1000\\nspace 1000\\npulse 1000\\nspace 1000\\npulse 1000\\nspace 2000\\npulse 2000\\nspace 1000\\npulse 4000\\n'"
      ]
     },
     "execution_count": 9,
     "metadata": {},
     "output_type": "execute_result"
    }
   ],
   "source": [
    "write_to_text(**state)"
   ]
  }
 ],
 "metadata": {
  "kernelspec": {
   "display_name": "Python 3",
   "language": "python",
   "name": "python3"
  },
  "language_info": {
   "codemirror_mode": {
    "name": "ipython",
    "version": 3
   },
   "file_extension": ".py",
   "mimetype": "text/x-python",
   "name": "python",
   "nbconvert_exporter": "python",
   "pygments_lexer": "ipython3",
   "version": "3.7.4"
  }
 },
 "nbformat": 4,
 "nbformat_minor": 2
}
