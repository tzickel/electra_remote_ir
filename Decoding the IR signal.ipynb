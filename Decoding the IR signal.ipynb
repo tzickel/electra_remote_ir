{
 "cells": [
  {
   "cell_type": "markdown",
   "metadata": {},
   "source": [
    "# Decoding the IR signal\n",
    "\n",
    "## How to go about thinking about the problem\n",
    "\n",
    "This notebook shows my thought process when decoding the IR signal from my air conditioner remote control. This part requires getting the raw output sequence (pulses and spaces) from the remote when clicking buttons (Check the previous chapter).\n",
    "\n",
    "This code will be using the ir module provided in the git repository. Each function and short and modular, and might help you in decoding your own data.\n",
    "\n",
    "It is also important that this does not cover all aspects and possibilies of remote IR encodings, just a very specific one, and how I went about it."
   ]
  },
  {
   "cell_type": "code",
   "execution_count": 1,
   "metadata": {},
   "outputs": [],
   "source": [
    "from ir.read import *\n",
    "from ir.plot import *"
   ]
  },
  {
   "cell_type": "markdown",
   "metadata": {},
   "source": [
    "Before diving in to the steps, it's important to use some common sense. My remote has an LCD which shows it's current state, and I know that if the AC does not have a line of sight and I make multiple changes, the AC will acknowledge them all together when it does. This means that each key press will result in all of the state being sent each time, unlike a TV remote which usually only sends the current press (such as volume up, etc...)"
   ]
  },
  {
   "cell_type": "markdown",
   "metadata": {},
   "source": [
    "Let's click some buttons and see how the data looks like:"
   ]
  },
  {
   "cell_type": "code",
   "execution_count": 2,
   "metadata": {},
   "outputs": [],
   "source": [
    "filename = 'clicks.txt'"
   ]
  },
  {
   "cell_type": "code",
   "execution_count": 3,
   "metadata": {},
   "outputs": [
    {
     "name": "stdout",
     "output_type": "stream",
     "text": [
      "['pulse 3039\\n', 'space 3017\\n', 'pulse 998\\n', 'space 972\\n', 'pulse 971\\n']\n"
     ]
    }
   ],
   "source": [
    "with open(filename) as f:\n",
    "    print(f.readlines()[:5])"
   ]
  },
  {
   "cell_type": "markdown",
   "metadata": {},
   "source": [
    "We can see that each line in the text file is a pulse or space for an X amount of time in microseconds (uS). Let's read those sequences into python. Each sequence ends with a timeout."
   ]
  },
  {
   "cell_type": "code",
   "execution_count": 4,
   "metadata": {},
   "outputs": [],
   "source": [
    "with open(filename) as f:\n",
    "    seqs = parse_input(f.readlines())"
   ]
  },
  {
   "cell_type": "code",
   "execution_count": 5,
   "metadata": {},
   "outputs": [
    {
     "name": "stdout",
     "output_type": "stream",
     "text": [
      "7 [(1, 3039), (0, 3017), (1, 998), (0, 972), (1, 971), (0, 974), (1, 970), (0, 1912), (1, 1976), (0, 1943)]\n"
     ]
    }
   ],
   "source": [
    "print(len(seqs), seqs[0][:10])"
   ]
  },
  {
   "cell_type": "markdown",
   "metadata": {},
   "source": [
    "We can see this file has 7 sequences in it, and we've converted them to use 0 (space) and 1 (pulse) with their timings. Lets plot them:"
   ]
  },
  {
   "cell_type": "code",
   "execution_count": 6,
   "metadata": {},
   "outputs": [],
   "source": [
    "%matplotlib inline"
   ]
  },
  {
   "cell_type": "code",
   "execution_count": 7,
   "metadata": {
    "scrolled": true
   },
   "outputs": [
    {
     "data": {
      "image/png": "[encoded data removed]",
      "text/plain": [
       "<Figure size 432x288 with 1 Axes>"
      ]
     },
     "metadata": {
      "needs_background": "light"
     },
     "output_type": "display_data"
    }
   ],
   "source": [
    "plot(seqs)"
   ]
  },
  {
   "cell_type": "markdown",
   "metadata": {},
   "source": [
    "We can already see some intresting patterns by overlaying all the sequences on top of each other. There seems to be some sort of a preamble split in the signal that happens twice, but there also seems to be some thing weird in the start of the signal. Let's look at the length of the sequences:"
   ]
  },
  {
   "cell_type": "code",
   "execution_count": 8,
   "metadata": {},
   "outputs": [
    {
     "name": "stdout",
     "output_type": "stream",
     "text": [
      "[187, 137, 23, 187, 181, 187, 1]\n"
     ]
    }
   ],
   "source": [
    "print([len(x) for x in seqs])"
   ]
  },
  {
   "cell_type": "markdown",
   "metadata": {},
   "source": [
    "Hmm.... it seems like some of the sequences are about the same length, while others are shorter. IR signals can be effected by many light sources in the room, so let's cut off the short ones and plot again:"
   ]
  },
  {
   "cell_type": "code",
   "execution_count": 9,
   "metadata": {},
   "outputs": [],
   "source": [
    "seqs = [x for x in seqs if len(x) > 100]"
   ]
  },
  {
   "cell_type": "code",
   "execution_count": 10,
   "metadata": {},
   "outputs": [
    {
     "data": {
      "image/png": "[encoded data removed]",
      "text/plain": [
       "<Figure size 432x288 with 1 Axes>"
      ]
     },
     "metadata": {
      "needs_background": "light"
     },
     "output_type": "display_data"
    }
   ],
   "source": [
    "plot(seqs)"
   ]
  },
  {
   "cell_type": "markdown",
   "metadata": {},
   "source": [
    "We can already see some patterns here. It seems there is a 3 part repetition and also we can see that most changes happen on almost 1000 uS intervals:"
   ]
  },
  {
   "cell_type": "code",
   "execution_count": 11,
   "metadata": {},
   "outputs": [
    {
     "data": {
      "text/plain": [
       "[<matplotlib.lines.Line2D at 0x114bd9b10>]"
      ]
     },
     "execution_count": 11,
     "metadata": {},
     "output_type": "execute_result"
    },
    {
     "data": {
      "image/png": "[encoded data removed]",
      "text/plain": [
       "<Figure size 432x288 with 1 Axes>"
      ]
     },
     "metadata": {
      "needs_background": "light"
     },
     "output_type": "display_data"
    }
   ],
   "source": [
    "plt.plot(sorted([x[1] for x in seqs[0]]), 'x')"
   ]
  },
  {
   "cell_type": "markdown",
   "metadata": {},
   "source": [
    "So let's round the data to 1000 uS intervals:"
   ]
  },
  {
   "cell_type": "code",
   "execution_count": 12,
   "metadata": {},
   "outputs": [],
   "source": [
    "seqs = [round_values(x, 1000) for x in seqs]"
   ]
  },
  {
   "cell_type": "code",
   "execution_count": 13,
   "metadata": {},
   "outputs": [
    {
     "data": {
      "image/png": "[encoded data removed]",
      "text/plain": [
       "<Figure size 432x288 with 1 Axes>"
      ]
     },
     "metadata": {
      "needs_background": "light"
     },
     "output_type": "display_data"
    }
   ],
   "source": [
    "plot(seqs)"
   ]
  },
  {
   "cell_type": "markdown",
   "metadata": {},
   "source": [
    "From the 2 previous graphs, we can also see that the splits between the repetition have a pulse of 3000 uS and an space of 3000 uS and the sequence ends with a 4000 uS pulse. I guess that the repetition is part of the signal error detection scheme."
   ]
  },
  {
   "cell_type": "markdown",
   "metadata": {},
   "source": [
    "Let's validate that the 3 parts are exactly the same, and look at one of them:"
   ]
  },
  {
   "cell_type": "code",
   "execution_count": 14,
   "metadata": {},
   "outputs": [],
   "source": [
    "seqs_data = [get_data_from_sequence(x) for x in seqs]"
   ]
  },
  {
   "cell_type": "code",
   "execution_count": 15,
   "metadata": {},
   "outputs": [
    {
     "data": {
      "image/png": "[encoded data removed]",
      "text/plain": [
       "<Figure size 432x288 with 1 Axes>"
      ]
     },
     "metadata": {
      "needs_background": "light"
     },
     "output_type": "display_data"
    }
   ],
   "source": [
    "plot(seqs_data)"
   ]
  },
  {
   "cell_type": "markdown",
   "metadata": {},
   "source": [
    "We can see that the clicks cause small changes in the data, let's try to see if there is any meaning to decoding the data as bits where the clock speed is 1000 uS."
   ]
  },
  {
   "cell_type": "code",
   "execution_count": 16,
   "metadata": {},
   "outputs": [],
   "source": [
    "seqs_data = [convert_to_bits(x, 1000) for x in seqs_data]"
   ]
  },
  {
   "cell_type": "code",
   "execution_count": 17,
   "metadata": {},
   "outputs": [
    {
     "name": "stdout",
     "output_type": "stream",
     "text": [
      "['10101001100110101010100101011010101010101010101010101010101010100110',\n",
      " '10101001100110101010100101100110101010101010101010101010101010100110',\n",
      " '10101001100110101010100101101010101010101010101010101010101010100110',\n",
      " '10101001100110101010100110010110101010101010101010101010101010100110',\n",
      " '10101001100110101010100101101010101010101010101010101010101010100110']\n"
     ]
    }
   ],
   "source": [
    "seqs_data_str = [as_string(x) for x in seqs_data]\n",
    "\n",
    "import pprint; pprint.pprint(seqs_data_str)"
   ]
  },
  {
   "cell_type": "markdown",
   "metadata": {},
   "source": [
    "The clicks that are sampled here are of changes only to the temprature. Since my remote can go from 16 to 30 degrees, I expect to see some kind of unsigned integer that goes up and down encoded by 5 bits:"
   ]
  },
  {
   "cell_type": "code",
   "execution_count": 18,
   "metadata": {},
   "outputs": [
    {
     "data": {
      "text/plain": [
       "5"
      ]
     },
     "execution_count": 18,
     "metadata": {},
     "output_type": "execute_result"
    }
   ],
   "source": [
    "import math\n",
    "\n",
    "math.ceil(math.log(30)/math.log(2))"
   ]
  },
  {
   "cell_type": "markdown",
   "metadata": {},
   "source": [
    "We can see that the changes are in only a specific region of the sequence:"
   ]
  },
  {
   "cell_type": "code",
   "execution_count": 19,
   "metadata": {},
   "outputs": [
    {
     "data": {
      "text/plain": [
       "(24, 30, ['010110', '011001', '011010', '100101', '011010'])"
      ]
     },
     "execution_count": 19,
     "metadata": {},
     "output_type": "execute_result"
    }
   ],
   "source": [
    "temprature_changes = find_changes_region(seqs_data_str)\n",
    "\n",
    "temprature_changes"
   ]
  },
  {
   "cell_type": "markdown",
   "metadata": {},
   "source": [
    "Hmm, this seems bigger than 5 bits (6 bits), even when we didn't go the whole range, and they don't go linearly and out of bounds:"
   ]
  },
  {
   "cell_type": "code",
   "execution_count": 20,
   "metadata": {},
   "outputs": [
    {
     "data": {
      "text/plain": [
       "[22, 25, 26, 37, 26]"
      ]
     },
     "execution_count": 20,
     "metadata": {},
     "output_type": "execute_result"
    }
   ],
   "source": [
    "[int(x, 2) for x in temprature_changes[2]]"
   ]
  },
  {
   "cell_type": "markdown",
   "metadata": {},
   "source": [
    "Here, looking long enough at the bits, and trying going all the range from 16 to 30, got me to see that if we skip the odd bits, the data makes more sense:"
   ]
  },
  {
   "cell_type": "code",
   "execution_count": 21,
   "metadata": {},
   "outputs": [
    {
     "data": {
      "text/plain": [
       "[6, 5, 4, 3, 4]"
      ]
     },
     "execution_count": 21,
     "metadata": {},
     "output_type": "execute_result"
    }
   ],
   "source": [
    "[int(x[1::2], 2) for x in temprature_changes[2]]"
   ]
  },
  {
   "cell_type": "markdown",
   "metadata": {},
   "source": [
    "Since I knew that when recording the changes were of going between 29, 28, 27, 26, 27, This values had to be related to the changes (sans a few error samples maybe). Let's try widening the length of the number by one bit to the left (this is a game of trail and error, or you could just sample the whole range and then run the above code again). Also remember than one bit = 2 bits, because we skip the odd ones:"
   ]
  },
  {
   "cell_type": "code",
   "execution_count": 22,
   "metadata": {},
   "outputs": [
    {
     "data": {
      "text/plain": [
       "[14, 13, 12, 11, 12]"
      ]
     },
     "execution_count": 22,
     "metadata": {},
     "output_type": "execute_result"
    }
   ],
   "source": [
    "[int(x[temprature_changes[0]-2:temprature_changes[1]][1::2], 2) for x in seqs_data_str]"
   ]
  },
  {
   "cell_type": "markdown",
   "metadata": {},
   "source": [
    "This seems promising as I know the changes are between 29 to 26, we can see that there is an offset of 15 here, and the temprature is encoded as 4 bit unsigned integer between 1 to 15."
   ]
  },
  {
   "cell_type": "markdown",
   "metadata": {},
   "source": [
    "I had no clue about why I needed to discard the odd bits and I had a hunch it is related to some error correction method, but it didn't hit me till a friend pointed me to look at [manchester coding](https://en.wikipedia.org/wiki/Manchester_code) which is commonly used in consumer IR remotes:"
   ]
  },
  {
   "cell_type": "code",
   "execution_count": 23,
   "metadata": {},
   "outputs": [
    {
     "name": "stdout",
     "output_type": "stream",
     "text": [
      "['0001010000011100000000000000000010',\n",
      " '0001010000011010000000000000000010',\n",
      " '0001010000011000000000000000000010',\n",
      " '0001010000010110000000000000000010',\n",
      " '0001010000011000000000000000000010']\n"
     ]
    }
   ],
   "source": [
    "seqs_data_str_fixed = [as_string(decode_manchester(x)) for x in seqs_data]\n",
    "\n",
    "import pprint; pprint.pprint(seqs_data_str_fixed)"
   ]
  },
  {
   "cell_type": "code",
   "execution_count": 24,
   "metadata": {},
   "outputs": [
    {
     "data": {
      "text/plain": [
       "(12, 15, ['110', '101', '100', '011', '100'])"
      ]
     },
     "execution_count": 24,
     "metadata": {},
     "output_type": "execute_result"
    }
   ],
   "source": [
    "temprature_changes = find_changes_region(seqs_data_str_fixed)\n",
    "\n",
    "temprature_changes"
   ]
  },
  {
   "cell_type": "code",
   "execution_count": 25,
   "metadata": {},
   "outputs": [
    {
     "data": {
      "text/plain": [
       "[6, 5, 4, 3, 4]"
      ]
     },
     "execution_count": 25,
     "metadata": {},
     "output_type": "execute_result"
    }
   ],
   "source": [
    "[int(x, 2) for x in temprature_changes[2]]"
   ]
  },
  {
   "cell_type": "markdown",
   "metadata": {},
   "source": [
    "Viola, I was able now to decode the full signal, and mess with the remote keys and record and see which bits were responsible for which AC state:"
   ]
  },
  {
   "cell_type": "code",
   "execution_count": 26,
   "metadata": {},
   "outputs": [
    {
     "data": {
      "text/plain": [
       "['0001010000011100000000000000000010',\n",
       " '0001010000011010000000000000000010',\n",
       " '0001010000011010000000000000000010',\n",
       " '0001010000011000000000000000000010',\n",
       " '0001010000010110000000000000000010',\n",
       " '0001010000011000000000000000000010',\n",
       " '0001010000011000000000000000000010']"
      ]
     },
     "execution_count": 26,
     "metadata": {},
     "output_type": "execute_result"
    }
   ],
   "source": [
    "with open(filename) as f:\n",
    "    seqs = parse_input(f.readlines())\n",
    "\n",
    "states = []\n",
    "for seq in seqs:\n",
    "    try:\n",
    "        state = get_state(round_values(seq, 1000))\n",
    "    except WrongDataError:\n",
    "        pass # We want to ignore bad signals\n",
    "    states.append(state)\n",
    "\n",
    "states"
   ]
  },
  {
   "cell_type": "code",
   "execution_count": 27,
   "metadata": {},
   "outputs": [
    {
     "data": {
      "text/plain": [
       "[{'mode': <Modes.cool: 0>,\n",
       "  'temp': 29,\n",
       "  'speed': <FanSpeed.medium: 1>,\n",
       "  'power_cycle': False},\n",
       " {'mode': <Modes.cool: 0>,\n",
       "  'temp': 28,\n",
       "  'speed': <FanSpeed.medium: 1>,\n",
       "  'power_cycle': False},\n",
       " {'mode': <Modes.cool: 0>,\n",
       "  'temp': 28,\n",
       "  'speed': <FanSpeed.medium: 1>,\n",
       "  'power_cycle': False},\n",
       " {'mode': <Modes.cool: 0>,\n",
       "  'temp': 27,\n",
       "  'speed': <FanSpeed.medium: 1>,\n",
       "  'power_cycle': False},\n",
       " {'mode': <Modes.cool: 0>,\n",
       "  'temp': 26,\n",
       "  'speed': <FanSpeed.medium: 1>,\n",
       "  'power_cycle': False},\n",
       " {'mode': <Modes.cool: 0>,\n",
       "  'temp': 27,\n",
       "  'speed': <FanSpeed.medium: 1>,\n",
       "  'power_cycle': False},\n",
       " {'mode': <Modes.cool: 0>,\n",
       "  'temp': 27,\n",
       "  'speed': <FanSpeed.medium: 1>,\n",
       "  'power_cycle': False}]"
      ]
     },
     "execution_count": 27,
     "metadata": {},
     "output_type": "execute_result"
    }
   ],
   "source": [
    "[decode(x) for x in states]"
   ]
  },
  {
   "cell_type": "markdown",
   "metadata": {},
   "source": [
    "This is not the comprehensive list of options that is encoded in each state, but it's good enough for my needs, which is to make a web server that will allow me to control the AC parameters I want from any browser."
   ]
  },
  {
   "cell_type": "markdown",
   "metadata": {},
   "source": [
    "## Helper script for figuring out which bits are responsible for a specific state\n",
    "\n",
    "Just change one state to it's full range, and get the bits which are responsible for it:"
   ]
  },
  {
   "cell_type": "code",
   "execution_count": 28,
   "metadata": {},
   "outputs": [
    {
     "data": {
      "text/plain": [
       "(12, 15, [6, 5, 4, 3, 4])"
      ]
     },
     "execution_count": 28,
     "metadata": {},
     "output_type": "execute_result"
    }
   ],
   "source": [
    "filename = 'clicks.txt'\n",
    "\n",
    "with open(filename) as f:\n",
    "    lines = f.readlines()\n",
    "\n",
    "bits = find_changes_region([get_state(round_values(seq, 1000)) for seq in parse_input(lines) if len(seq) > 100])\n",
    "\n",
    "(bits[0], bits[1], [int(x, 2) for x in bits[2]])"
   ]
  },
  {
   "cell_type": "code",
   "execution_count": null,
   "metadata": {},
   "outputs": [],
   "source": []
  }
 ],
 "metadata": {
  "kernelspec": {
   "display_name": "Python 3",
   "language": "python",
   "name": "python3"
  },
  "language_info": {
   "codemirror_mode": {
    "name": "ipython",
    "version": 3
   },
   "file_extension": ".py",
   "mimetype": "text/x-python",
   "name": "python",
   "nbconvert_exporter": "python",
   "pygments_lexer": "ipython3",
   "version": "3.7.4"
  }
 },
 "nbformat": 4,
 "nbformat_minor": 2
}
