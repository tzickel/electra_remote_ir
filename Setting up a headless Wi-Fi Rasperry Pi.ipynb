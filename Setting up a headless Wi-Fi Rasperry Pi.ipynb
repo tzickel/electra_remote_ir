{
 "cells": [
  {
   "cell_type": "markdown",
   "metadata": {},
   "source": [
    "# Setting up a headless Wi-Fi Rasperry Pi\n",
    "\n",
    "I decided to go on installing a Raspberry Pi Zero W (cheap and sufficient) without connecting it to a monitor (headless), but this should work on any Raspberry Pi Wi-Fi compatible device.\n",
    "\n",
    "For more detailed instructions, checkout this [desertbot guide](https://desertbot.io/blog/headless-raspberry-pi-3-bplus-ssh-wifi-setup)."
   ]
  },
  {
   "cell_type": "markdown",
   "metadata": {},
   "source": [
    "## Settings up the Micro SD card\n",
    "\n",
    "### Formatting the card\n",
    "\n",
    "You will need a Micro SD with atleast 8GB capacity which you don't need the information on. Connect it to your computer with an Micro SD card reader.\n",
    "\n",
    "First let's download the latest [Raspbian](https://www.raspberrypi.org/downloads/raspbian/) release (Debian for Raspberry Pi), any will do, I chose the ZIP of the Raspian Lite.\n",
    "\n",
    "Download [Etcher](https://www.balena.io/etcher/) and run it, select the ZIP file you downloaded from the previous step, Select your correct Micro SD card, click flash and wait for it to finish.\n",
    "\n",
    "Afterwards if your drive is not recognized, simply disconnect and reconnect it again to your computer.\n",
    "\n",
    "### Setting up SSH Server\n",
    "\n",
    "Put an empty \"ssh\" file in the root folder of your Micro SD card.\n",
    "\n",
    "### Setting up Wi-Fi\n",
    "\n",
    "Put an file called \"wpa_supplicant.conf\" in the root folder of your Micro SD card with the following information:\n",
    "```\n",
    "country=us\n",
    "update_config=1\n",
    "ctrl_interface=/var/run/wpa_supplicant\n",
    "\n",
    "network={\n",
    " ssid=\"<Name of your WiFi>\"\n",
    " psk=\"<Password for your WiFi>\"\n",
    "}\n",
    "```\n",
    "Also change your country code above from US if you know yours.\n",
    "\n",
    "### Eject your Micro SD card\n",
    "\n",
    "Don't forget to safely eject your Micro SD card from your computer when you are done."
   ]
  },
  {
   "cell_type": "markdown",
   "metadata": {},
   "source": [
    "## Using the Raspberry Pi\n",
    "\n",
    "### Connecting the peripherals\n",
    "\n",
    "Insert the Micro SD card to the slot. \n",
    "\n",
    "Connect a USB cable to the outer mini USB port to power up. \n",
    "\n",
    "Wait up to 90 seconds for the device to complete power up. \n",
    "\n",
    "### Connecting remotely to the Raspberry Pi\n",
    "\n",
    "Use an SSH client (you can check the end of this [guide](https://www.raspberrypi.org/documentation/remote-access/ssh/README.md) for more information):\n",
    "\n",
    "```\n",
    "Hostname: raspberrypi.local\n",
    "User: pi\n",
    "Password: raspberry\n",
    "```\n",
    "\n",
    "If you don't see raspberrypi.local you can try looking in your router DHCP list for it's IP and connect to it using the IP.\n",
    "\n",
    "I would recommend changing the password, hostname and updating the system (You can find more details in the end of the guide at the top)."
   ]
  }
 ],
 "metadata": {
  "kernelspec": {
   "display_name": "Python 3",
   "language": "python",
   "name": "python3"
  },
  "language_info": {
   "codemirror_mode": {
    "name": "ipython",
    "version": 3
   },
   "file_extension": ".py",
   "mimetype": "text/x-python",
   "name": "python",
   "nbconvert_exporter": "python",
   "pygments_lexer": "ipython3",
   "version": "3.7.4"
  }
 },
 "nbformat": 4,
 "nbformat_minor": 2
}
