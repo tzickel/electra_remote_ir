{
 "cells": [
  {
   "cell_type": "markdown",
   "metadata": {},
   "source": [
    "# Talking IR with the Raspberry Pi\n",
    "\n",
    "*Notice* This document is for the fairly recent versions of raspbian (mid-2019). Previous versions (with older kernels such as 4.14 in stretch) had lirc support built-in, but newer versions (kernel 4.19+ in buster) do not come with it but instead have a new built-in kernel driver called gpio-ir & gpio-ir-tx and use the userland programs ir-keyspace and ir-ctl (lirc can be compiled to use them as well).\n",
    "\n",
    "Also this document is for talking with my remote, other remotes might use standard protocols which gpio-ir already supports, if not perhaps you can find useful tips and code to help you figure out your remote."
   ]
  },
  {
   "cell_type": "markdown",
   "metadata": {},
   "source": [
    "## Grabbing the IR signal\n",
    "\n",
    "Since we are intrested in getting and processing the raw data, for this you can use whatever you have as long as it looks like the raw mode in lirc's mode2 or ir-ctl (A series of pulse and space lines):\n",
    "```\n",
    "pulse 3049\n",
    "space 2952\n",
    "pulse 1037\n",
    "space 937\n",
    "```\n",
    "\n",
    "You can also try to sample the GPIO yourself, but I did not go down that path."
   ]
  },
  {
   "cell_type": "markdown",
   "metadata": {},
   "source": [
    "On the hardware side, for receiving the signal, I simply connected a 3 pin IR Receiver TL1838, to the Pi directly:\n",
    "```\n",
    "Vcc -> V3.3 pin (#1)\n",
    "Gnd -> Gnd pin (#6)\n",
    "Out -> GPIO #24 (The physical pin depends on which Pi board you have).\n",
    "```"
   ]
  },
  {
   "cell_type": "markdown",
   "metadata": {},
   "source": [
    "After this I've installed the v4l-utils packages for the ir-ctl program:\n",
    "```bash\n",
    "sudo apt install v4l-utils\n",
    "```"
   ]
  },
  {
   "cell_type": "markdown",
   "metadata": {},
   "source": [
    "I've modified /boot/config.txt and added to the end (after the [all] section) the line:\n",
    "```\n",
    "dtoverlay=gpio-ir,gpio_pin=24\n",
    "```\n",
    "If you choose another GPIO pin, don't forget to change it here.\n",
    "\n",
    "Also don't forget to reboot after the changes."
   ]
  },
  {
   "cell_type": "markdown",
   "metadata": {},
   "source": [
    "And checking that it works (after getting the wrong GPIO pin the first time...):\n",
    "```bash\n",
    "ir-ctl -r\n",
    "```\n",
    "Notice if you defined an gpio-ir-tx (transmit) as well, they will be mapped to different /dev/lircX devices, so add -d /dev/lirc to the correct one."
   ]
  },
  {
   "cell_type": "markdown",
   "metadata": {},
   "source": [
    "```\n",
    "pulse 3049\n",
    "space 2952\n",
    "pulse 1037\n",
    "space 937\n",
    "pulse 956\n",
    "space 954\n",
    "pulse 983\n",
    "space 1929\n",
    "pulse 1970\n",
    "space 951\n",
    "pulse 1032\n",
    "space 940\n",
    "pulse 956\n",
    "space 954\n",
    "pulse 1029\n",
    "space 944\n",
    "pulse 955\n",
    "space 956\n",
    "pulse 939\n",
    "space 1004\n",
    "```\n",
    "..."
   ]
  },
  {
   "cell_type": "markdown",
   "metadata": {},
   "source": [
    "# Sending the IR signal\n",
    "\n",
    "On the hardware side, for receiving the signal, I simply connected a 3 pin IR Receiver TL1838, to the Pi directly:\n",
    "```\n",
    "TODO\n",
    "```"
   ]
  },
  {
   "cell_type": "markdown",
   "metadata": {},
   "source": [
    "Add to /boot/config.txt:\n",
    "```\n",
    "dtoverlay=gpio-ir-tx,gpio_pin=25\n",
    "```\n",
    "And reboot."
   ]
  },
  {
   "cell_type": "markdown",
   "metadata": {},
   "source": [
    "Sending data via ir-ctl expects to find a filename with the same layout as the read command (dont forget to set -d device if needed):\n",
    "```bash\n",
    "ir-ctl -s <filename>\n",
    "```"
   ]
  }
 ],
 "metadata": {
  "kernelspec": {
   "display_name": "Python 3",
   "language": "python",
   "name": "python3"
  },
  "language_info": {
   "codemirror_mode": {
    "name": "ipython",
    "version": 3
   },
   "file_extension": ".py",
   "mimetype": "text/x-python",
   "name": "python",
   "nbconvert_exporter": "python",
   "pygments_lexer": "ipython3",
   "version": "3.7.4"
  }
 },
 "nbformat": 4,
 "nbformat_minor": 2
}
